{
 "cells": [
  {
   "cell_type": "code",
   "execution_count": 3,
   "id": "challenging-essence",
   "metadata": {},
   "outputs": [
    {
     "name": "stdout",
     "output_type": "stream",
     "text": [
      "/usr/bin/sh: xpra: command not found\n"
     ]
    }
   ],
   "source": [
    "!xpra"
   ]
  },
  {
   "cell_type": "code",
   "execution_count": 2,
   "id": "constitutional-longitude",
   "metadata": {},
   "outputs": [
    {
     "ename": "NameError",
     "evalue": "name 'xpra' is not defined",
     "output_type": "error",
     "traceback": [
      "\u001b[0;31m---------------------------------------------------------------------------\u001b[0m",
      "\u001b[0;31mNameError\u001b[0m                                 Traceback (most recent call last)",
      "\u001b[0;32m<ipython-input-2-7d449aeb90f6>\u001b[0m in \u001b[0;36m<module>\u001b[0;34m\u001b[0m\n\u001b[1;32m      1\u001b[0m \u001b[0;32mimport\u001b[0m \u001b[0mos\u001b[0m\u001b[0;34m\u001b[0m\u001b[0;34m\u001b[0m\u001b[0m\n\u001b[1;32m      2\u001b[0m \u001b[0;32mimport\u001b[0m \u001b[0mnumpy\u001b[0m \u001b[0;32mas\u001b[0m \u001b[0mnp\u001b[0m\u001b[0;34m\u001b[0m\u001b[0;34m\u001b[0m\u001b[0m\n\u001b[0;32m----> 3\u001b[0;31m \u001b[0mos\u001b[0m\u001b[0;34m.\u001b[0m\u001b[0msystem\u001b[0m\u001b[0;34m(\u001b[0m\u001b[0mxpra\u001b[0m\u001b[0;34m)\u001b[0m\u001b[0;34m\u001b[0m\u001b[0;34m\u001b[0m\u001b[0m\n\u001b[0m\u001b[1;32m      4\u001b[0m \u001b[0;32mdef\u001b[0m \u001b[0mget_dir\u001b[0m\u001b[0;34m(\u001b[0m\u001b[0;34m)\u001b[0m\u001b[0;34m:\u001b[0m\u001b[0;34m\u001b[0m\u001b[0;34m\u001b[0m\u001b[0m\n\u001b[1;32m      5\u001b[0m     \u001b[0;31m#return os.getcwd()[:-13]\u001b[0m\u001b[0;34m\u001b[0m\u001b[0;34m\u001b[0m\u001b[0;34m\u001b[0m\u001b[0m\n",
      "\u001b[0;31mNameError\u001b[0m: name 'xpra' is not defined"
     ]
    }
   ],
   "source": [
    "import os\n",
    "import numpy as np\n",
    "\n",
    "def get_dir():\n",
    "    #return os.getcwd()[:-13]\n",
    "    return os.getcwd()[:-8]\n",
    "\n",
    "def combine_left_right(vl,bl,vr,br):\n",
    "    b = np.clip(bl+br, 0.,1.)\n",
    "    bl = np.repeat(np.expand_dims(bl,axis=2),axis=2,repeats=3)\n",
    "    br = np.repeat(np.expand_dims(br,axis=2),axis=2,repeats=3)\n",
    "    v_ = np.ones(vl.shape)*255.*(1-bl) + bl*vl\n",
    "    v = v_*(1-br) + br*vr\n",
    "\n",
    "    return v,b"
   ]
  },
  {
   "cell_type": "code",
   "execution_count": 3,
   "id": "enhanced-think",
   "metadata": {},
   "outputs": [
    {
     "name": "stdout",
     "output_type": "stream",
     "text": [
      "/p/home/jusers/sestini1/shared/hackaton_code\n"
     ]
    }
   ],
   "source": [
    "import os\n",
    "root_dir = get_dir()\n",
    "print(root_dir)\n",
    "import sys\n",
    "sys.path.insert(0,os.path.join(root_dir,\"vtk_robot/project_module/\"))\n",
    "from project_main import projector as projector_class\n",
    "import numpy as np\n",
    "import pickle as pkl\n",
    "from PIL import Image\n",
    "\n",
    "import cProfile\n",
    "import pstats\n",
    "from pstats import SortKey"
   ]
  },
  {
   "cell_type": "code",
   "execution_count": 4,
   "id": "suspected-interest",
   "metadata": {},
   "outputs": [],
   "source": [
    "data_path = os.path.join(root_dir, \"data\")\n",
    "save_path = os.path.join(root_dir, \"results\")\n",
    "if not os.path.isdir(save_path): os.makedirs(save_path)\n",
    "\n",
    "kine_file = os.path.join(data_path,\"kine.pkl\")\n",
    "with open(kine_file,\"rb\") as f:\n",
    "    kine = pkl.load(f)\n",
    "\n",
    "kine_i = kine[3954]"
   ]
  },
  {
   "cell_type": "code",
   "execution_count": null,
   "id": "monetary-sacrifice",
   "metadata": {},
   "outputs": [],
   "source": [
    "projector =  projector_class(root_dir)"
   ]
  },
  {
   "cell_type": "code",
   "execution_count": null,
   "id": "photographic-combat",
   "metadata": {},
   "outputs": [],
   "source": [
    "\n",
    "\n",
    "points_l = projector.get_3Dshape(kine_i,\"L\")\n",
    "points_r = projector.get_3Dshape(kine_i,\"R\")\n",
    "\n",
    "cProfile.run(\"projector.project_3Dshape(points_l,\\\"L\\\")\",\"profile_renderer.dat\")\n",
    "\n",
    "rend_l, mask_l = projector.project_3Dshape(points_r,\"L\")\n",
    "rend_r, mask_r = projector.project_3Dshape(points_r,\"R\")\n",
    "\n",
    "\n",
    "rend, mask = combine_left_right(rend_l, mask_l, rend_r, mask_r)\n",
    "Image.fromarray((rend).astype(\"uint8\")).save(os.path.join(save_path,\"rend.jpg\"))\n",
    "\n",
    "print(\"done\")\n",
    "\n",
    "\n",
    "\n",
    "with open(\"output_rend_time.txt\", \"w\") as f:\n",
    "    p = pstats.Stats(\"profile_renderer.dat\", stream=f)\n",
    "    p.sort_stats(\"time\").print_stats()\n",
    "\n",
    "with open(\"output_rend_calls.txt\", \"w\") as f:\n",
    "    p = pstats.Stats(\"profile_renderer.dat\", stream=f)\n",
    "    p.sort_stats(\"calls\").print_stats()\n"
   ]
  },
  {
   "cell_type": "code",
   "execution_count": 8,
   "id": "cooperative-buffalo",
   "metadata": {},
   "outputs": [
    {
     "data": {
      "text/plain": [
       "'/p/home/jusers/sestini1/shared/hackaton_code/scripts'"
      ]
     },
     "execution_count": 8,
     "metadata": {},
     "output_type": "execute_result"
    }
   ],
   "source": []
  },
  {
   "cell_type": "code",
   "execution_count": null,
   "id": "painted-pollution",
   "metadata": {},
   "outputs": [],
   "source": []
  }
 ],
 "metadata": {
  "kernelspec": {
   "display_name": "hack_env",
   "language": "python",
   "name": "hack_env"
  },
  "language_info": {
   "codemirror_mode": {
    "name": "ipython",
    "version": 3
   },
   "file_extension": ".py",
   "mimetype": "text/x-python",
   "name": "python",
   "nbconvert_exporter": "python",
   "pygments_lexer": "ipython3",
   "version": "3.8.5"
  }
 },
 "nbformat": 4,
 "nbformat_minor": 5
}
